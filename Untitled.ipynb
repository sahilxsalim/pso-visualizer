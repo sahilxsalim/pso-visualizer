{
 "cells": [
  {
   "cell_type": "code",
   "execution_count": 2,
   "id": "463c0d3e",
   "metadata": {},
   "outputs": [],
   "source": [
    "%matplotlib qt"
   ]
  },
  {
   "cell_type": "code",
   "execution_count": 8,
   "id": "51d425a5",
   "metadata": {},
   "outputs": [],
   "source": [
    "import matplotlib.pyplot as plt\n",
    "import matplotlib.animation as animation\n",
    "import random\n",
    "\n",
    "num_particles = 50\n",
    "dimensions = 2\n",
    "iters = 100\n",
    "global global_best\n",
    "# PSO parameters\n",
    "w = 0.5 # Inertia\n",
    "c1 = 2 # Cognitive (particle)\n",
    "c2 = 2 # Social (swarm)\n",
    "\n",
    "# Initialize particles and velocities\n",
    "particles = [[random.uniform(-1, 1) for _ in range(dimensions)] for _ in range(num_particles)] \n",
    "velocities = [[0 for _ in range(dimensions)] for _ in range(num_particles)]\n",
    "\n",
    "# Best known position individually and globally\n",
    "local_best = [[0,0] for _ in range(num_particles)]\n",
    "global_best = [0,0] \n",
    "\n",
    "# Evaluate fitness\n",
    "def evaluate(particle):\n",
    "  x, y = particle\n",
    "  return -x**2 - y**2\n",
    "\n",
    "# Initialize plot\n",
    "fig, ax = plt.subplots()\n",
    "ax.set_xlim(-2, 2)\n",
    "ax.set_ylim(-2, 2)\n",
    "particle_handles, = ax.plot([p[0] for p in particles], [p[1] for p in particles], 'ro')\n",
    "\n",
    "def animate(i):\n",
    "  global global_best\n",
    "  # Update particle velocities and position\n",
    "  for j in range(num_particles):\n",
    "    \n",
    "    # Update local best\n",
    "    if evaluate(particles[j]) < evaluate(local_best[j]):\n",
    "      local_best[j] = particles[j]\n",
    "    \n",
    "    # Update global best\n",
    "    if evaluate(particles[j]) < evaluate(global_best):\n",
    "      global_best = particles[j]\n",
    "      \n",
    "    # Update velocity  \n",
    "    velocities[j][0] = w*velocities[j][0] + c1*random.random()*(local_best[j][0]-particles[j][0]) + c2*random.random()*(global_best[0]-particles[j][0])\n",
    "    velocities[j][1] = w*velocities[j][1] + c1*random.random()*(local_best[j][1]-particles[j][1]) + c2*random.random()*(global_best[1]-particles[j][1])\n",
    "    \n",
    "    # Update position\n",
    "    particles[j][0] += velocities[j][0]\n",
    "    particles[j][1] += velocities[j][1]\n",
    "    \n",
    "  # Update plot \n",
    "  x = [p[0] for p in particles]\n",
    "  y = [p[1] for p in particles]\n",
    "\n",
    "  particle_handles.set_data(x, y)\n",
    "\n",
    "  return particle_handles,\n",
    "\n",
    "ani = animation.FuncAnimation(fig, animate, frames=iters, interval=100)\n",
    "plt.show()"
   ]
  }
 ],
 "metadata": {
  "kernelspec": {
   "display_name": "Python 3 (ipykernel)",
   "language": "python",
   "name": "python3"
  },
  "language_info": {
   "codemirror_mode": {
    "name": "ipython",
    "version": 3
   },
   "file_extension": ".py",
   "mimetype": "text/x-python",
   "name": "python",
   "nbconvert_exporter": "python",
   "pygments_lexer": "ipython3",
   "version": "3.11.4"
  }
 },
 "nbformat": 4,
 "nbformat_minor": 5
}
